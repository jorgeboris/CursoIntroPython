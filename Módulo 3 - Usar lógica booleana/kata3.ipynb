{
 "cells": [
  {
   "cell_type": "markdown",
   "metadata": {},
   "source": [
    "Para este ejercicio, escribirás una lógica condicional que imprima una advertencia si un asteroide se acerca a la Tierra demasiado rápido. La velocidad del asteroide varía dependiendo de lo cerca que esté del sol, y cualquier velocidad superior a 25 kilómetros por segundo (km/s) merece una advertencia.\n",
    "\n",
    "Un asteroide se acerca, y viaja a una velocidad de 49 km/s."
   ]
  },
  {
   "cell_type": "code",
   "execution_count": 1,
   "metadata": {},
   "outputs": [
    {
     "name": "stdout",
     "output_type": "stream",
     "text": [
      "Alerta se acerca un asteroide!!\n"
     ]
    }
   ],
   "source": [
    "vel_aster = 49\n",
    "\n",
    "if vel_aster >25:\n",
    "    print (\"Alerta se acerca un asteroide!!\")\n",
    "else:\n",
    "    print (\"No hay peligro\")"
   ]
  },
  {
   "cell_type": "markdown",
   "metadata": {},
   "source": [
    "Si un asteroide entra en la atmósfera de la Tierra a una velocidad mayor o igual a 20 km/s, a veces produce un rayo de luz que se puede ver desde la Tierra. Escribe la lógica condicional que usa declaraciones if, else, y elif para alertar a las personas de todo el mundo que deben buscar un asteroide en el cielo. ¡Hay uno que se dirige a la tierra ahora a una velocidad de 19 km/s!"
   ]
  },
  {
   "cell_type": "code",
   "execution_count": 5,
   "metadata": {},
   "outputs": [
    {
     "name": "stdout",
     "output_type": "stream",
     "text": [
      "No hay nada en el cielo hoy\n"
     ]
    }
   ],
   "source": [
    "vel_aster = 19\n",
    "\n",
    "if vel_aster > 20:\n",
    "    print (\"Mira, un asteroide en el cielo!!\")\n",
    "\n",
    "elif vel_aster == 20:\n",
    "    print (\"Mira, un asteroide en el cielo!!\")\n",
    "\n",
    "else:\n",
    "    print (\"No hay nada en el cielo hoy\")\n"
   ]
  },
  {
   "cell_type": "markdown",
   "metadata": {},
   "source": [
    "En este ejercicio, aprenderás información más matizada sobre cuándo los asteroides representan un peligro para la Tierra, y utilizarás esa información para mejorar nuestro sistema de advertencia. Aquí está la nueva información que necesitas saber:\n",
    "\n",
    "*Los asteroides de menos de 25 metros en su dimensión más grande probablemente se quemarán a medida que entren en la atmósfera de la Tierra.\n",
    "\n",
    "Si una pieza de un asteroide que es más grande que 25 metros pero más pequeña que 1000 metros golpeara la Tierra, causaría mucho daño.\n",
    "También discutimos en el ejercicio anterior que:\n",
    "\n",
    "La velocidad del asteroide varía en función de lo cerca que esté del sol, y cualquier velocidad superior a 25 kilómetros por segundo (km/s) merece una advertencia.\n",
    "Si un asteroide entra en la atmósfera de la Tierra a una velocidad mayor o igual a 20 km/s, a veces produce un rayo de luz que se puede ver desde la Tierra."
   ]
  },
  {
   "cell_type": "code",
   "execution_count": 8,
   "metadata": {},
   "outputs": [
    {
     "name": "stdout",
     "output_type": "stream",
     "text": [
      "No hay nada en el cielo hoy\n"
     ]
    }
   ],
   "source": [
    "tam_aster = 20\n",
    "vel_aster = 20\n",
    "\n",
    "if tam_aster > 25 and vel_aster > 25:\n",
    "    print (\"Peligro, viene un asteroide a la tierra!!\")\n",
    "\n",
    "elif tam_aster < 25:\n",
    "    print (\"No hay nada en el cielo hoy\")\n",
    "\n",
    "elif vel_aster >= 20:\n",
    "    print (\"Mira, una luz en el cielo!!\")\n",
    "\n",
    "else:\n",
    "    print (\"No hay nada en el cielo hoy\")"
   ]
  }
 ],
 "metadata": {
  "interpreter": {
   "hash": "38ab1231409ff4814433fbdb2dbb8deb276f1c2cbbeae8e27ed6a2f246725ea0"
  },
  "kernelspec": {
   "display_name": "Python 3.10.2 64-bit (windows store)",
   "language": "python",
   "name": "python3"
  },
  "language_info": {
   "codemirror_mode": {
    "name": "ipython",
    "version": 3
   },
   "file_extension": ".py",
   "mimetype": "text/x-python",
   "name": "python",
   "nbconvert_exporter": "python",
   "pygments_lexer": "ipython3",
   "version": "3.10.2"
  },
  "orig_nbformat": 4
 },
 "nbformat": 4,
 "nbformat_minor": 2
}
