{
 "cells": [
  {
   "cell_type": "markdown",
   "metadata": {},
   "source": [
    "# Ejercicio: Uso de funciones en Python\n",
    "### Ejercicio 1: Trabajar con argumentos en funciones\n",
    "Los argumentos requeridos en las funciones se utilizan cuando las funciones necesitan que esos argumentos funcionen correctamente. En este ejercicio, construirás un informe de combustible que requiere información de varias ubicaciones de combustible en todo el cohete.\n",
    "\n",
    "Comienza por crear una función que necesite tres lecturas de combustible y devuelva un informe:"
   ]
  },
  {
   "cell_type": "code",
   "execution_count": 6,
   "metadata": {},
   "outputs": [],
   "source": [
    "def tanques(tanque1, tanque2, tanque3):\n",
    "    promedio = (tanque1+tanque2+tanque3) / 3 \n",
    "    return f\"\"\" Reporte:\n",
    "    Promedio: {promedio}%\n",
    "    Tanque 1: {tanque1}%\n",
    "    Tanque 2: {tanque2}%\n",
    "    Tanque 3: {tanque3}%\n",
    "    \"\"\""
   ]
  },
  {
   "cell_type": "markdown",
   "metadata": {},
   "source": [
    "Ahora que hemos definido la función de informes, vamos a comprobarlo. Para esta misión, los tanques no están llenos:"
   ]
  },
  {
   "cell_type": "code",
   "execution_count": 9,
   "metadata": {},
   "outputs": [
    {
     "name": "stdout",
     "output_type": "stream",
     "text": [
      " Reporte:\n",
      "    Promedio: 53.333333333333336%\n",
      "    Tanque 1: 50%\n",
      "    Tanque 2: 70%\n",
      "    Tanque 3: 40%\n",
      "    \n"
     ]
    }
   ],
   "source": [
    "print(tanques(50,70,40))"
   ]
  },
  {
   "cell_type": "markdown",
   "metadata": {},
   "source": [
    "En lugar de simplemente crear el informe, la función también está calculando el promedio. Mejora la legibilidad extrayendo el cálculo promedio de la función en una nueva función para que el promedio se pueda hacer de forma independiente:"
   ]
  },
  {
   "cell_type": "code",
   "execution_count": 11,
   "metadata": {},
   "outputs": [
    {
     "data": {
      "text/plain": [
       "47.333333333333336"
      ]
     },
     "execution_count": 11,
     "metadata": {},
     "output_type": "execute_result"
    }
   ],
   "source": [
    "def promedio_tanques(values):\n",
    "    total = sum(values)\n",
    "    number_of_items = len(values)\n",
    "    return total / number_of_items\n",
    "\n",
    "\n",
    "promedio_tanques([50, 60, 32]) "
   ]
  },
  {
   "cell_type": "markdown",
   "metadata": {},
   "source": [
    "Ahora actualiza la función de informes para llamando a la nueva función del promedio:"
   ]
  },
  {
   "cell_type": "code",
   "execution_count": 14,
   "metadata": {},
   "outputs": [
    {
     "name": "stdout",
     "output_type": "stream",
     "text": [
      " Reporte:\n",
      "    Promedio: 73.33333333333333%\n",
      "    Tanque 1: 90%\n",
      "    Tanque 2: 60%\n",
      "    Tanque 3: 70%\n",
      "    \n"
     ]
    }
   ],
   "source": [
    "def tanques(tanque1, tanque2, tanque3):\n",
    "    return f\"\"\" Reporte:\n",
    "    Promedio: {promedio_tanques([tanque1,tanque2,tanque3])}%\n",
    "    Tanque 1: {tanque1}%\n",
    "    Tanque 2: {tanque2}%\n",
    "    Tanque 3: {tanque3}%\n",
    "    \"\"\"\n",
    "\n",
    "print(tanques(90, 60, 70))"
   ]
  },
  {
   "cell_type": "markdown",
   "metadata": {},
   "source": [
    "# Ejercicio 2: Trabajo con argumentos de palabra clave\n",
    "### Ejercicio : Trabajar con argumentos de palabras clave en funciones\n",
    "En este ejercicio, construirás un informe de cohete que requiere varias piezas de información, como el tiempo hasta el destino, el combustible a la izquierda y el nombre del destino. Comienza por crear una función que creará un informe preciso de la misión:"
   ]
  },
  {
   "cell_type": "code",
   "execution_count": 3,
   "metadata": {},
   "outputs": [
    {
     "name": "stdout",
     "output_type": "stream",
     "text": [
      " Informe:\n",
      "    Mision a: Marte\n",
      "    Tiempo de Vuelo: 90 minutos\n",
      "    Combustible: 3000 litros\n",
      "    \n"
     ]
    }
   ],
   "source": [
    "def informe(hora, tiempoVuelo, destino, tanqueExt, tanqueInt):\n",
    "    return f\"\"\" Informe:\n",
    "    Mision a: {destino}\n",
    "    Tiempo de Vuelo: {hora + tiempoVuelo} minutos\n",
    "    Combustible: {tanqueExt + tanqueInt} litros\n",
    "    \"\"\"\n",
    "\n",
    "print(informe(10,80,\"Marte\",1000,2000))"
   ]
  },
  {
   "cell_type": "markdown",
   "metadata": {},
   "source": [
    "La función es problemática porque no se puede adaptar para minutos adicionales o tanques adicionales de combustible. Hazlo más flexible permitiendo cualquier número de pasos basados en el tiempo y cualquier número de tanques. En lugar de usar *args y **kwargs, aprovecha el hecho de que puedes usar cualquier nombre que desees. Asegurate que la función sea más legible mediante el uso de nombres de variables que están asociados con las entradas, como *minutes y **fuel_reservoirs:"
   ]
  },
  {
   "cell_type": "code",
   "execution_count": 5,
   "metadata": {},
   "outputs": [
    {
     "name": "stdout",
     "output_type": "stream",
     "text": [
      " Informe:\n",
      "    Mision a: Marte\n",
      "    Tiempo de Vuelo: 100 minutos\n",
      "    Combustible: 9000 litros\n",
      "    \n"
     ]
    }
   ],
   "source": [
    "def informe(destino, *minutes, **fuel_reservoirs):\n",
    "    return f\"\"\" Informe:\n",
    "    Mision a: {destino}\n",
    "    Tiempo de Vuelo: {sum(minutes)} minutos\n",
    "    Combustible: {sum(fuel_reservoirs.values())} litros\n",
    "    \"\"\"\n",
    "\n",
    "print(informe(\"Marte\",15,35,50,tanqueExt=3000,tanqueInt=6000))"
   ]
  },
  {
   "cell_type": "markdown",
   "metadata": {},
   "source": [
    "Debido a que el combustible que queda en los tanques es específico de cada tanque, actualiza la función para usar el nombre de cada tanque en el informe:"
   ]
  },
  {
   "cell_type": "code",
   "execution_count": 9,
   "metadata": {},
   "outputs": [
    {
     "name": "stdout",
     "output_type": "stream",
     "text": [
      "\n",
      "    Mision a: Marte\n",
      "    Tiempo de Vuelo: 74 minutos\n",
      "    Combustible: 9000 litros\n",
      "    tanqueExt tanque --> 3000 litros\n",
      "tanqueInt tanque --> 6000 litros\n",
      "\n"
     ]
    }
   ],
   "source": [
    "def informe(destino, *minutes, **fuel_reservoirs):\n",
    "    reporte = f\"\"\"\n",
    "    Mision a: {destino}\n",
    "    Tiempo de Vuelo: {sum(minutes)} minutos\n",
    "    Combustible: {sum(fuel_reservoirs.values())} litros\n",
    "    \"\"\"\n",
    "\n",
    "    for nombre, litros in fuel_reservoirs.items():\n",
    "        reporte += f\"{nombre} tanque --> {litros} litros\\n\"\n",
    "    return reporte\n",
    "print(informe(\"Marte\",8,11,55,tanqueExt=3000,tanqueInt=6000))"
   ]
  }
 ],
 "metadata": {
  "interpreter": {
   "hash": "5e18db431586a431e6718f922fae224ef6db4682844985216efbe224bdc27f61"
  },
  "kernelspec": {
   "display_name": "Python 3.10.2 64-bit (windows store)",
   "language": "python",
   "name": "python3"
  },
  "language_info": {
   "codemirror_mode": {
    "name": "ipython",
    "version": 3
   },
   "file_extension": ".py",
   "mimetype": "text/x-python",
   "name": "python",
   "nbconvert_exporter": "python",
   "pygments_lexer": "ipython3",
   "version": "3.10.2"
  },
  "orig_nbformat": 4
 },
 "nbformat": 4,
 "nbformat_minor": 2
}
