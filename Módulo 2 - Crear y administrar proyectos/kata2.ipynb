{
 "cells": [
  {
   "cell_type": "markdown",
   "metadata": {},
   "source": [
    "# Crear un paquete\n",
    "\n",
    "Lo primero que haremos sera ingresar el comando python -m venv env en cmd y en tu carpeta de tu agrado, con este comando crearemos el entorno virtual.  \n",
    "\n",
    "<img src=\"captura1.jpg\">  \n",
    "  \n",
    "Con el comando env\\Scripts\\activate activaremos el entorno y comenzaremos a trabajar dentro de el.\n",
    "\n",
    "<img src=\"captura2.jpg\">  \n",
    "  \n",
    "Ingresaremos el comando pip freeze para ver los paquetes instalados, no nos arrojara nada por que en este punto no hemos intalado ninguno. Por lo que instalaremos un paquete con el siguiente comando pip install python-dateutil\n",
    "\n",
    "<img src=\"captura3.jpg\">}\n",
    "\n",
    "Ingresaremos de nuevo el comando pip freeze y veremos que ahora nos arrojara los paquetes instalados.\n",
    "\n",
    "<img src=\"captura4.jpg\">}\n",
    "\n",
    "En el momento que queramos desactivar el entorno ingresaremos el comando deactivate"
   ]
  }
 ],
 "metadata": {
  "interpreter": {
   "hash": "5e18db431586a431e6718f922fae224ef6db4682844985216efbe224bdc27f61"
  },
  "kernelspec": {
   "display_name": "Python 3.10.2 64-bit (windows store)",
   "language": "python",
   "name": "python3"
  },
  "language_info": {
   "name": "python",
   "version": "3.10.2"
  },
  "orig_nbformat": 4
 },
 "nbformat": 4,
 "nbformat_minor": 2
}
